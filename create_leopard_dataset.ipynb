{
 "cells": [
  {
   "cell_type": "code",
   "execution_count": 1,
   "id": "371a2b60",
   "metadata": {},
   "outputs": [],
   "source": [
    "import fiftyone as fo\n",
    "from utils import create_yolo_dataset"
   ]
  },
  {
   "cell_type": "code",
   "execution_count": 3,
   "id": "ab6d8b99",
   "metadata": {},
   "outputs": [
    {
     "name": "stdout",
     "output_type": "stream",
     "text": [
      " 100% |███████████████| 6795/6795 [10.8s elapsed, 0s remaining, 666.9 samples/s]      \n"
     ]
    }
   ],
   "source": [
    "# The directory containing the source images\n",
    "data_path = \"../leopard/leopard_coco/images/train2022/\"\n",
    "\n",
    "# The path to the COCO labels JSON file\n",
    "labels_path = \"../leopard/leopard_coco/annotations/instances_train2022.json\"\n",
    "\n",
    "# Import the dataset\n",
    "dataset = fo.Dataset.from_dir(\n",
    "    dataset_type=fo.types.COCODetectionDataset,\n",
    "    data_path=data_path,\n",
    "    labels_path=labels_path\n",
    ")"
   ]
  },
  {
   "cell_type": "code",
   "execution_count": 4,
   "id": "337b316d",
   "metadata": {},
   "outputs": [],
   "source": [
    "create_yolo_dataset(dataset)"
   ]
  },
  {
   "cell_type": "code",
   "execution_count": null,
   "id": "25b529cd",
   "metadata": {},
   "outputs": [],
   "source": []
  }
 ],
 "metadata": {
  "kernelspec": {
   "display_name": "fiftyOne_env",
   "language": "python",
   "name": "fiftyone_env"
  },
  "language_info": {
   "codemirror_mode": {
    "name": "ipython",
    "version": 3
   },
   "file_extension": ".py",
   "mimetype": "text/x-python",
   "name": "python",
   "nbconvert_exporter": "python",
   "pygments_lexer": "ipython3",
   "version": "3.9.12"
  }
 },
 "nbformat": 4,
 "nbformat_minor": 5
}
